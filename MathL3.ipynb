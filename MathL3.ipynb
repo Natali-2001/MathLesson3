{
 "cells": [
  {
   "cell_type": "markdown",
   "metadata": {},
   "source": [
    "Задание к уроку 2.\n",
    "1. 1.найти сумму векторов (10, 10, 0) и (0, 0, -10).\n",
    "\n",
    "Решение: Суммой векторов будет вектор, координаты которого равны суммам соответствующих координат:\n",
    "***(10, 10, 0)***\n"
   ]
  },
  {
   "cell_type": "code",
   "execution_count": null,
   "metadata": {},
   "outputs": [],
   "source": [
    "#Задание к уроку 2.\n",
    "#1 2.Расчет длины вектора\n",
    "#\n",
    "import math  \n",
    "x = float(input('X = '))\n",
    "y = float(input('Y = '))\n",
    "z = float(input('Z = '))\n",
    "weight = math.sqrt(x * x + y * y + z * z)\n",
    "print('Длина вектора = ', weight)"
   ]
  },
  {
   "cell_type": "markdown",
   "metadata": {},
   "source": []
  },
  {
   "cell_type": "markdown",
   "metadata": {},
   "source": [
    "Задание к уроку 2.\n",
    "2. Почему прямые не кажутся перпендикулярными.\n",
    "\n",
    "Решение: Выбран разный масштаб осей X и Y"
   ]
  },
  {
   "cell_type": "markdown",
   "metadata": {},
   "source": []
  },
  {
   "cell_type": "code",
   "execution_count": null,
   "metadata": {},
   "outputs": [],
   "source": [
    "#Задание к уроку 2.\n",
    "#3. 1.Построение графика окружности\n",
    "#\n",
    "%matplotlib inline\n",
    "import numpy as np\n",
    "import matplotlib.pyplot as plt\n",
    "import math\n",
    "x = float(input(\"Введите координату центра окружности X= \"))\n",
    "y = float(input(\"Введите координату центра окружности Y= \"))\n",
    "r = float(input(\"Введите величину радиуса окружности R= \"))\n",
    "circle1 = plt.Circle((x, y), r, color='blue', fill=False)\n",
    "ax=plt.gca()\n",
    "ax.add_patch(circle1)\n",
    "plt.axis('scaled')\n",
    "plt.show()"
   ]
  },
  {
   "cell_type": "code",
   "execution_count": null,
   "metadata": {},
   "outputs": [],
   "source": [
    "#Задание к уроку 2.\n",
    "#3. 2.Построение графика эллипса\n",
    "#\n",
    "%matplotlib inline\n",
    "import numpy as np\n",
    "import matplotlib.pyplot as plt\n",
    "import math\n",
    "x = []\n",
    "y1 = []\n",
    "y2 = []\n",
    "a = int(input(\"Введите первый фокус a= \"))\n",
    "b = int(input(\"Введите второй фокус b= \"))\n",
    "for i in range(-a*1000, a*1000, 1):\n",
    "    x_ = i/1000\n",
    "    x.append(x_)\n",
    "    y1.append(math.sqrt(abs(1 - x_**2 / a**2)) * b)\n",
    "    y2.append(-math.sqrt(abs(1 - x_**2 / a**2)) * b)\n",
    "plt.plot(x,y1)\n",
    "plt.plot(x,y2)\n",
    "plt.xlabel(\"x\")\n",
    "plt.ylabel(\"y\")"
   ]
  },
  {
   "cell_type": "code",
   "execution_count": null,
   "metadata": {},
   "outputs": [],
   "source": [
    "#Задание к уроку 2.\n",
    "#3. 3.Построение графика гиперболы\n",
    "#\n",
    "%matplotlib inline\n",
    "import numpy as np\n",
    "import matplotlib.pyplot as plt\n",
    "import math\n",
    "x = np.linspace(-5, 5, 210)\n",
    "k = float(input(\"Введите коэффициент сжатия k= \"))\n",
    "b = float(input(\"Введите смещение вдоль оси Y b= \"))\n",
    "y = k / x + b\n",
    "plt.plot(x,y)\n",
    "plt.xlabel(\"x\")\n",
    "plt.ylabel(\"y\")"
   ]
  },
  {
   "cell_type": "markdown",
   "metadata": {},
   "source": []
  },
  {
   "cell_type": "markdown",
   "metadata": {},
   "source": [
    "Задание к уроку 2.\n",
    "4. 1. Написать уравнение плоскости, параллельной данной A*x+B*y+C*z+D=0 и проходящей через начало координат.\n",
    "\n",
    "Решение: Уравнение плоскости, проходящей через точку (Xo, Yo, Zo) и параллельной данной имеет вид: A*(X-Xo)+B*(Y-Yo)+C*(Z-Zo)=0. Начало координат имеет координаты (0, 0, 0). Т.о. искомая прямая имеет вид A*x+B*y+C*z=0"
   ]
  },
  {
   "cell_type": "markdown",
   "metadata": {},
   "source": [
    "Задание к уроку 2.\n",
    "4. 2. Узнать, принадлежит ли прямая плоскости или нет.\n",
    "\n",
    "Решение: Прямая принадлежит плоскости, если две ее точки принадлежат плоскости. Т.о. для проверки необходимо представить координаты точек, через которые проходит прямая (X1,Y1,Z1) и (X2,Y2,Z2) в уравнение плоскости.\n",
    "Т.е. выражения \n",
    "A1*X1 + B1*Y1 + C1*Z1 + D1=0 и \n",
    "A1*X2 + B1*Y2 + C1*Z2 + D1=0\n",
    "должны быть верными."
   ]
  },
  {
   "cell_type": "markdown",
   "metadata": {},
   "source": []
  },
  {
   "cell_type": "code",
   "execution_count": null,
   "metadata": {},
   "outputs": [],
   "source": [
    "#Задание к уроку 2.\n",
    "#5.1 Трехмерный график двух параллельных плоскостей\n",
    "#\n",
    "from pylab import *\n",
    "from mpl_toolkits.mplot3d import Axes3D\n",
    "fig = figure()\n",
    "ax = Axes3D(fig)\n",
    "X = np.arange(-5, 6, 1)\n",
    "Y = np.arange(-50, 60, 10)\n",
    "X, Y = np.meshgrid(X, Y)\n",
    "Z = 3*X + Y/2 + 50\n",
    "Z2 = 3*X + Y/2\n",
    "ax.plot_surface(X, Y, Z)\n",
    "ax.plot_surface(X, Y, Z2)\n",
    "ax.scatter(0, 0, 0,'z',50,'red')\n",
    "show()"
   ]
  },
  {
   "cell_type": "code",
   "execution_count": null,
   "metadata": {},
   "outputs": [],
   "source": [
    "#Задание к уроку 2.\n",
    "#5.2 Трехмерный график двух любых поверхностей второго порядка\n",
    "#\n",
    "from pylab import *\n",
    "from mpl_toolkits.mplot3d import Axes3D\n",
    "fig = figure()\n",
    "ax = Axes3D(fig)\n",
    "X = np.arange(-100, 100, 0.5)\n",
    "Y = np.arange(-100, 100, 0.2)\n",
    "X, Y = np.meshgrid(X, Y)\n",
    "#эллиптический параболоид\n",
    "Z = X**2 + 0.5*Y**2\n",
    "#гиперболический параболоид\n",
    "Z2 = 2*(X**2) - 3*(Y**2)\n",
    "ax.plot_surface(X, Y, Z, cmap = cm.plasma)\n",
    "ax.plot_surface(X, Y, Z2)\n",
    "ax.scatter(0, 0, 0,'z',50,'red')\n",
    "show()"
   ]
  },
  {
   "cell_type": "markdown",
   "metadata": {},
   "source": []
  },
  {
   "cell_type": "code",
   "execution_count": null,
   "metadata": {},
   "outputs": [],
   "source": [
    "#Задание 3.\n",
    "#1. Нарисовать график функции Y(x)=k*cos(x-a)+b для различных значения параметров k, a, b.\n",
    "%matplotlib inline\n",
    "import matplotlib.pyplot as plt\n",
    "import numpy as np\n",
    "x = np.linspace(-3*np.pi, 4*np.pi, 201)\n",
    "plt.plot(x, 2*np.cos(x + np.pi/2) + np.pi/2, 'red')\n",
    "plt.plot(x, 0.5*np.cos(x - 3*np.pi/2) - 3*np.pi/2, 'blue')\n",
    "plt.plot(x, -3*np.cos(x - np.pi/2) + 3*np.pi/2, 'green')\n",
    "plt.xlabel('x')\n",
    "plt.ylabel('y')\n",
    "plt.grid(True)\n",
    "plt.show()"
   ]
  },
  {
   "cell_type": "markdown",
   "metadata": {},
   "source": []
  },
  {
   "cell_type": "markdown",
   "metadata": {},
   "source": [
    "Задание3.\n",
    "1. Доказать, что при ортогональном преобразовании сохраняется расстояние между точками.\n",
    "\n",
    "Решение: отдельно на листочке.\n"
   ]
  },
  {
   "cell_type": "code",
   "execution_count": null,
   "metadata": {},
   "outputs": [],
   "source": [
    "#Задание3.\n",
    "#3.1 Перевод полярных координат в декартовы\n",
    "%matplotlib inline\n",
    "import matplotlib.pyplot as plt\n",
    "import numpy as np\n",
    "R = 2\n",
    "a = np.pi/2\n",
    "X = R*np.cos(a)\n",
    "Y = R*np.sin(a)\n",
    "R = math.sqrt(X**2 + Y**2)\n",
    "print(X, Y)"
   ]
  },
  {
   "cell_type": "code",
   "execution_count": null,
   "metadata": {},
   "outputs": [],
   "source": [
    "#Задание3.\n",
    "#3.2 График окружности в полярных координатах\n",
    "import numpy as np\n",
    "import matplotlib.pyplot as plt\n",
    "import numpy as np\n",
    "x = np.linspace(0, 2*np.pi, 100)\n",
    "y = np.full(100, 1)\n",
    "plt.polar(x, y)"
   ]
  },
  {
   "cell_type": "code",
   "execution_count": null,
   "metadata": {},
   "outputs": [],
   "source": [
    "#Задание3.\n",
    "#3.3 График отрезка прямой линии y=k*x + b в полярных координатах\n",
    "%matplotlib inline\n",
    "import numpy as np\n",
    "import matplotlib.pyplot as plt\n",
    "import math\n",
    "k = float(input(\"Введите коэффициент при переменной x k= \"))\n",
    "b = float(input(\"Введите свободный член b= \"))\n",
    "print(f\"Уравнение прямой y={k}x+{b} в полярной системе координат:\")\n",
    "x = np.linspace(-1, 2, 201)\n",
    "y = k*x+b\n",
    "plt.subplot(111, polar=True)\n",
    "plt.polar(x, y, 'green', lw=1)\n",
    "plt.show()"
   ]
  },
  {
   "cell_type": "code",
   "execution_count": null,
   "metadata": {},
   "outputs": [],
   "source": [
    "#Задание 4.\n",
    "# Решить систему уравнений\n",
    "%matplotlib inline\n",
    "import numpy as np\n",
    "import matplotlib.pyplot as plt\n",
    "import math\n",
    "x = np.linspace(-5, 5, 201)\n",
    "plt.plot(x, (x - 1 + np.exp(x))/x)\n",
    "plt.plot(x, x**2 - 1)\n",
    "plt.xlabel('x')\n",
    "plt.ylabel('y')\n",
    "plt.ylim(-2,25) \n",
    "plt.grid(True)\n",
    "plt.show()\n",
    "\n",
    "from scipy.optimize import fsolve\n",
    "\n",
    "def equations(p):\n",
    "    x, y = p\n",
    "    return (y - x**2 + 1, np.exp(x) + x*(1 - y) - 1)\n",
    "\n",
    "x1, y1 =  fsolve(equations, (-2, 0))\n",
    "x2, y2 =  fsolve(equations, (2, 4))\n",
    "x3, y3 =  fsolve(equations, (4, 5))\n",
    "print(\"Корни системы уравнений (x, y)\")\n",
    "print (f\"{x1}, {y1}\")\n",
    "print (f\"{x2}, {y2}\")\n",
    "print (f\"{x3}, {y3}\")"
   ]
  },
  {
   "cell_type": "code",
   "execution_count": 48,
   "metadata": {},
   "outputs": [
    {
     "name": "stderr",
     "output_type": "stream",
     "text": [
      "<ipython-input-48-4db475b8d7cc>:8: RuntimeWarning: invalid value encountered in true_divide\n",
      "  plt.plot(x, (x - 1 + np.exp(x))/x)\n"
     ]
    },
    {
     "data": {
      "image/png": "[encoded data removed]",
      "text/plain": [
       "<Figure size 432x288 with 1 Axes>"
      ]
     },
     "metadata": {
      "needs_background": "light"
     },
     "output_type": "display_data"
    },
    {
     "name": "stdout",
     "output_type": "stream",
     "text": [
      "Корни системы уравнения и неравенства (x, y)\n",
      "xʗ(-∞;-1.581835352895898), yʗ(∞;1.5022030836712148) и\n",
      "xʗ(2.618145573277872,4.200105841138739), yʗ(5.854686243439231,16.640889076869268)\n",
      "при этом x и y удовлетворяют условию: Y=x2-1\n"
     ]
    }
   ],
   "source": [
    "#Задание 4.\n",
    "# Решить систему уравнения и неравенства\n",
    "%matplotlib inline\n",
    "import numpy as np\n",
    "import matplotlib.pyplot as plt\n",
    "import math\n",
    "x = np.linspace(-5, 5, 201)\n",
    "plt.plot(x, (x - 1 + np.exp(x))/x)\n",
    "plt.plot(x, x**2 - 1)\n",
    "plt.xlabel('x')\n",
    "plt.ylabel('y')\n",
    "plt.ylim(-2,25) \n",
    "plt.grid(True)\n",
    "plt.show()\n",
    "\n",
    "from scipy.optimize import fsolve\n",
    "\n",
    "def equations(p):\n",
    "    x, y = p\n",
    "    return (y - x**2 + 1, np.exp(x) + x*(1 - y) - 1)\n",
    "x1, y1 =  fsolve(equations, (-2, 0))\n",
    "x2, y2 =  fsolve(equations, (2, 4))\n",
    "x3, y3 =  fsolve(equations, (4, 5))\n",
    "print(\"Корни системы уравнения и неравенства (x, y)\")\n",
    "print (f\"xʗ(-∞;{x1}), yʗ(∞;{y1}) и\")\n",
    "print (f\"xʗ({x2},{x3}), yʗ({y2},{y3})\")\n",
    "print (f\"при этом x и y удовлетворяют условию: Y=x2-1\")"
   ]
  }
 ],
 "metadata": {
  "kernelspec": {
   "display_name": "Python 3",
   "language": "python",
   "name": "python3"
  },
  "language_info": {
   "codemirror_mode": {
    "name": "ipython",
    "version": 3
   },
   "file_extension": ".py",
   "mimetype": "text/x-python",
   "name": "python",
   "nbconvert_exporter": "python",
   "pygments_lexer": "ipython3",
   "version": "3.8.5"
  }
 },
 "nbformat": 4,
 "nbformat_minor": 4
}
